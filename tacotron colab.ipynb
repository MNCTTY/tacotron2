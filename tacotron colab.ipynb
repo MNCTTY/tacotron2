{
 "cells": [
  {
   "cell_type": "code",
   "execution_count": null,
   "metadata": {},
   "outputs": [],
   "source": [
    "!git clone https://github.com/MNCTTY/tacotron2.git\n",
    "    \n",
    "!cd tacotron2/ \n",
    "!git clone https://github.com/MNCTTY/waveglow.git\n",
    "    \n",
    "!cd waveglow/ \n",
    "\n",
    "!wget https://api.ngc.nvidia.com/v2/models/nvidia/waveglow_ljs_256channels/versions/3/files/waveglow_256channels_ljs_v3.pt\n",
    "    \n",
    "!cd .."
   ]
  },
  {
   "cell_type": "code",
   "execution_count": null,
   "metadata": {},
   "outputs": [],
   "source": [
    "from google.colab import drive\n",
    "drive.mount('/content/drive', force_remount=True)\n",
    "\n",
    "copy_cmd = \"/content/drive/My\\ Drive/\"+googleDrivePath+\" \"+destinationPathInCollab\n",
    "!cp $copy_cmd\n",
    "\n",
    "# в этом месте как-то надо скачать веса для такотрона \n",
    "# (я предполагаю, что ты их скачаешь отсюда и положишь в свой гугл диск)\n",
    "# https://drive.google.com/file/d/1c5ZTuT7J08wLUoVZ2KkUs_VdZuJ86ZqA/view?usp=sharing"
   ]
  },
  {
   "cell_type": "code",
   "execution_count": null,
   "metadata": {},
   "outputs": [],
   "source": [
    "!wget https://data.keithito.com/data/speech/LJSpeech-1.1.tar.bz2\n",
    "!tar xjf LJSpeech-1.1.tar.bz2 ljs_dataset_folder/"
   ]
  },
  {
   "cell_type": "code",
   "execution_count": null,
   "metadata": {},
   "outputs": [],
   "source": [
    "!git submodule init\n",
    "!git submodule update\n",
    "\n",
    "!sed -i -- 's,DUMMY,ljs_dataset_folder/wavs,g' filelists/*.txt"
   ]
  },
  {
   "cell_type": "code",
   "execution_count": null,
   "metadata": {},
   "outputs": [],
   "source": [
    "!pip3.7 install -r requirements.txt"
   ]
  },
  {
   "cell_type": "code",
   "execution_count": null,
   "metadata": {},
   "outputs": [],
   "source": [
    "# 1. Install PyTorch 1.0\n",
    "# 2. Install Apex"
   ]
  }
 ],
 "metadata": {
  "kernelspec": {
   "display_name": "Python 3",
   "language": "python",
   "name": "python3"
  },
  "language_info": {
   "codemirror_mode": {
    "name": "ipython",
    "version": 3
   },
   "file_extension": ".py",
   "mimetype": "text/x-python",
   "name": "python",
   "nbconvert_exporter": "python",
   "pygments_lexer": "ipython3",
   "version": "3.7.2"
  }
 },
 "nbformat": 4,
 "nbformat_minor": 2
}
